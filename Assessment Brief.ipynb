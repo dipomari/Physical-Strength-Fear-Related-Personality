{
 "cells": [
  {
   "cell_type": "markdown",
   "id": "6aeec26c",
   "metadata": {},
   "source": [
    "# Physical Strength & Fear-Related Personality\n",
    "Data Set Source: https://www.kaggle.com/datasets/thedevastator/physical-strength-correlation-with-fear-related?resource=download\n",
    "\n",
    "## Abstract\n",
    "Welcome to my notebook. This is a data set retrieved from Kaggle, it is supposed to have 5 Samples from different students from 5 different Universities. In this Notebook I just decided to \n",
    "\n",
    "### HEXACO IPIP items (7-point scale):\n",
    "\n",
    "**Anxiety, Positively Keyed:**\n",
    "\n",
    "- e_anx_1: Often worry about things that turn out to be unimportant\n",
    "- e_anx_2: Worry about things\n",
    "- e_anx_3: Get stressed out easily\n",
    "- e_anx_4: Get upset by unpleasant thoughts that come into my mind\n",
    "- e_anx_5: Panic easily\n",
    "\n",
    "**Anxiety, Negatively Keyed:**\n",
    "\n",
    "- e_anx_6: Rarely worry\n",
    "- e_anx_7: Rarely feel depressed\n",
    "- e_anx_8: Am not easily disturbed by events\n",
    "- e_anx_9: Remain calm under pressure\n",
    "- e_anx_10: Don't worry about things that have already happened\n",
    "\n",
    "**Emotional Dependence, Positively Keyed:**\n",
    "\n",
    "- e_dep_1: Need reassurance\n",
    "- e_dep_2: Let myself be influenced by others\n",
    "- e_dep_3: Need the approval of others\n",
    "- e_dep_4: Need protection\n",
    "- e_dep_5: Often need help\n",
    "- e_dep_6: Show my sadness\n",
    "- e_dep_7: Suspect that my facial expressions give me away when I feel sad\n",
    "- e_dep_8: Seek support\n",
    "- e_dep_9: Can't do without the company of others\n",
    "- e_dep_10: Want to be liked\n",
    "\n",
    "**Fearfulness, Positively Keyed:**\n",
    "\n",
    "- e_fear_1: Am a physical coward\n",
    "- e_fear_2: Begin to panic when there is danger\n",
    "- e_fear_3: Would fear walking in a high-crime part of a city\n",
    "- e_fear_4: Tremble in dangerous situations\n",
    "- e_fear_5: Would never go riding down a stretch of rapids in a canoe\n",
    "\n",
    "**Fearfulness, Negatively Keyed:**\n",
    "\n",
    "- e_fear_6: Like to do frightening things\n",
    "- e_fear_7: Face danger confidently\n",
    "- e_fear_8: Love dangerous situations\n",
    "- e_fear_9: Would be good at rescuing people from a burning building\n",
    "- e_fear_10: Am willing to take risks\n",
    "\n",
    "**Sentimentality, Positively Keyed:**\n",
    "\n",
    "- e_sen_1: Feel others' emotions\n",
    "- e_sen_2: Immediately feel sad when hearing of an unhappy event\n",
    "- e_sen_3: Cry during movies\n",
    "- e_sen_4: Am sensitive to the needs of others\n",
    "- e_sen_5: Am deeply moved by others' misfortunes\n",
    "\n",
    "**Sentimentality, Negatively Keyed:**\n",
    "\n",
    "- e_sen_6: Rarely cry during sad movies\n",
    "- e_sen_7: Seldom feel weepy while reading the sad part of a story\n",
    "- e_sen_8: Am seldom bothered by the apparent suffering of strangers\n",
    "- e_sen_9: Don't understand people who get emotional\n",
    " -e_sen_10: Seldom get emotional\n",
    " \n",
    " \n",
    " # Sites for further learning\n",
    " \n",
    " - ## Important Link: https://www.simplilearn.com/tutorials/scikit-learn-tutorial/sklearn-linear-regression-with-examples"
   ]
  },
  {
   "cell_type": "markdown",
   "id": "4a4dfcc0",
   "metadata": {},
   "source": [
    "## Libraries\n",
    "![Alt text](https://cdn.dribbble.com/users/325172/screenshots/6358244/4-emoties-3.gif)"
   ]
  },
  {
   "cell_type": "code",
   "execution_count": 902,
   "id": "cd50835d",
   "metadata": {},
   "outputs": [],
   "source": [
    "import pandas as pd\n",
    "import numpy as np\n",
    "import math\n",
    "from sklearn.model_selection import train_test_split\n",
    "from sklearn.preprocessing import OneHotEncoder\n",
    "from sklearn.compose import ColumnTransformer\n",
    "import sklearn.metrics\n",
    "from imblearn.over_sampling import RandomOverSampler\n",
    "from sklearn.pipeline import Pipeline\n",
    "from sklearn import linear_model\n",
    "from sklearn.metrics import mean_squared_error\n",
    "import seaborn as sns"
   ]
  },
  {
   "cell_type": "markdown",
   "id": "a6292e53",
   "metadata": {},
   "source": [
    "## Loading the Datasets"
   ]
  },
  {
   "cell_type": "code",
   "execution_count": 903,
   "id": "bb4945bf",
   "metadata": {},
   "outputs": [],
   "source": [
    "s1 = pd.read_csv('datasets/archive/Sample_1.csv')\n",
    "s2 = pd.read_csv('datasets/archive/Sample_2.csv')\n",
    "df3 = pd.read_csv('datasets/archive/Sample_3.csv')"
   ]
  },
  {
   "cell_type": "code",
   "execution_count": 904,
   "id": "9d85bd46",
   "metadata": {},
   "outputs": [
    {
     "data": {
      "text/plain": [
       "Index(['e_anx_1', 'e_anx_2', 'e_anx_3', 'e_anx_4', 'e_anx_5', 'e_anx_6',\n",
       "       'e_anx_7', 'e_anx_8', 'e_anx_9', 'e_anx_10', 'e_dep_1', 'e_dep_2',\n",
       "       'e_dep_3', 'e_dep_4', 'e_dep_5', 'e_dep_6', 'e_dep_7', 'e_dep_8',\n",
       "       'e_dep_9', 'e_dep_10', 'e_fear_1', 'e_fear_2', 'e_fear_3', 'e_fear_4',\n",
       "       'e_fear_5', 'e_fear_6', 'e_fear_7', 'e_fear_8', 'e_fear_9', 'e_fear_10',\n",
       "       'e_sen_1', 'e_sen_2', 'e_sen_3', 'e_sen_4', 'e_sen_5', 'e_sen_6',\n",
       "       'e_sen_7', 'e_sen_8', 'e_sen_9', 'e_sen_10'],\n",
       "      dtype='object')"
      ]
     },
     "execution_count": 904,
     "metadata": {},
     "output_type": "execute_result"
    }
   ],
   "source": [
    "s1.columns[6:]"
   ]
  },
  {
   "cell_type": "markdown",
   "id": "a941340f",
   "metadata": {},
   "source": [
    "Here I am erasing the column **p:_id** because i don't consider it to be insightful. \n",
    "I am also changing the values from the **gender and ethnicity** columns to categorical data, so I can transform it later using Onehot Enconder, being that the ethnity has values from 1 to 8 causing this to be \"hirearchical\"."
   ]
  },
  {
   "cell_type": "code",
   "execution_count": 905,
   "id": "5b58beeb",
   "metadata": {},
   "outputs": [
    {
     "name": "stdout",
     "output_type": "stream",
     "text": [
      "p_id         0\n",
      "age          0\n",
      "female       0\n",
      "ethnicity    0\n",
      "grip         0\n",
      "chest        1\n",
      "e_anx_1      0\n",
      "e_anx_2      0\n",
      "e_anx_3      0\n",
      "e_anx_4      0\n",
      "e_anx_5      0\n",
      "e_anx_6      0\n",
      "e_anx_7      0\n",
      "e_anx_8      0\n",
      "e_anx_9      0\n",
      "e_anx_10     0\n",
      "e_dep_1      0\n",
      "e_dep_2      0\n",
      "e_dep_3      0\n",
      "e_dep_4      0\n",
      "e_dep_5      0\n",
      "e_dep_6      0\n",
      "e_dep_7      0\n",
      "e_dep_8      0\n",
      "e_dep_9      0\n",
      "e_dep_10     0\n",
      "e_fear_1     0\n",
      "e_fear_2     0\n",
      "e_fear_3     0\n",
      "e_fear_4     0\n",
      "e_fear_5     0\n",
      "e_fear_6     0\n",
      "e_fear_7     0\n",
      "e_fear_8     0\n",
      "e_fear_9     0\n",
      "e_fear_10    0\n",
      "e_sen_1      0\n",
      "e_sen_2      0\n",
      "e_sen_3      0\n",
      "e_sen_4      0\n",
      "e_sen_5      0\n",
      "e_sen_6      0\n",
      "e_sen_7      0\n",
      "e_sen_8      0\n",
      "e_sen_9      0\n",
      "e_sen_10     0\n",
      "dtype: int64\n",
      "1    71\n",
      "2    23\n",
      "5    19\n",
      "8    14\n",
      "3     2\n",
      "6     1\n",
      "7     1\n",
      "Name: ethnicity, dtype: int64\n",
      "30    13\n",
      "38     6\n",
      "50     5\n",
      "52     5\n",
      "51     5\n",
      "34     5\n",
      "32     5\n",
      "25     4\n",
      "22     4\n",
      "40     4\n",
      "26     4\n",
      "36     4\n",
      "31     4\n",
      "27     4\n",
      "54     4\n",
      "48     4\n",
      "35     3\n",
      "55     3\n",
      "33     3\n",
      "21     3\n",
      "28     3\n",
      "49     3\n",
      "58     3\n",
      "16     3\n",
      "44     2\n",
      "19     2\n",
      "57     2\n",
      "24     2\n",
      "42     2\n",
      "39     2\n",
      "43     2\n",
      "46     2\n",
      "64     1\n",
      "45     1\n",
      "37     1\n",
      "20     1\n",
      "47     1\n",
      "61     1\n",
      "53     1\n",
      "13     1\n",
      "60     1\n",
      "29     1\n",
      "18     1\n",
      "Name: grip, dtype: int64\n",
      "14.0    8\n",
      "26.0    7\n",
      "32.0    6\n",
      "38.0    5\n",
      "20.0    5\n",
      "13.0    5\n",
      "18.0    5\n",
      "19.0    4\n",
      "42.0    4\n",
      "34.0    4\n",
      "16.0    4\n",
      "22.0    4\n",
      "36.0    4\n",
      "8.0     4\n",
      "25.0    4\n",
      "12.0    3\n",
      "11.0    3\n",
      "52.0    3\n",
      "48.0    3\n",
      "40.0    3\n",
      "15.0    3\n",
      "45.0    3\n",
      "46.0    2\n",
      "59.0    2\n",
      "57.0    2\n",
      "50.0    2\n",
      "51.0    2\n",
      "31.0    2\n",
      "64.0    1\n",
      "9.0     1\n",
      "54.0    1\n",
      "58.0    1\n",
      "49.0    1\n",
      "23.0    1\n",
      "53.0    1\n",
      "41.0    1\n",
      "66.0    1\n",
      "10.0    1\n",
      "27.0    1\n",
      "39.0    1\n",
      "73.0    1\n",
      "47.0    1\n",
      "56.0    1\n",
      "30.0    1\n",
      "24.0    1\n",
      "44.0    1\n",
      "28.0    1\n",
      "21.0    1\n",
      "6.0     1\n",
      "62.0    1\n",
      "69.0    1\n",
      "67.0    1\n",
      "Name: chest, dtype: int64\n"
     ]
    }
   ],
   "source": [
    "df_train, df_test = train_test_split(s1)\n",
    "print(df_train.isnull().sum())\n",
    "print(df_train['ethnicity'].value_counts())\n",
    "print(df_train['grip'].value_counts())\n",
    "print(df_train['chest'].value_counts())"
   ]
  },
  {
   "cell_type": "markdown",
   "id": "ef8be952",
   "metadata": {},
   "source": [
    "We can observe that there is 1 explicit null value in chest column and there are no observable implicit null values in the rest of the data frame.\n",
    "\n",
    "Since it is explicit we can remove it easily from both train and test."
   ]
  },
  {
   "cell_type": "code",
   "execution_count": 906,
   "id": "7c2123aa",
   "metadata": {},
   "outputs": [],
   "source": [
    "df_train = df_train.dropna()\n",
    "df_test = df_test.dropna()\n"
   ]
  },
  {
   "cell_type": "markdown",
   "id": "d6c3a862",
   "metadata": {},
   "source": [
    "I will removethe **p_id** column since I consider it uninsightful.\n",
    "Since the ethnicity is defined with numbers from 1 to 8, i will change it to categorical values so we dont confuse them with scalar values."
   ]
  },
  {
   "cell_type": "code",
   "execution_count": 907,
   "id": "50557d31",
   "metadata": {},
   "outputs": [
    {
     "data": {
      "text/plain": [
       "<AxesSubplot:>"
      ]
     },
     "execution_count": 907,
     "metadata": {},
     "output_type": "execute_result"
    },
    {
     "data": {
      "image/png": "[encoded data removed]",
      "text/plain": [
       "<Figure size 640x480 with 2 Axes>"
      ]
     },
     "metadata": {},
     "output_type": "display_data"
    }
   ],
   "source": [
    "#Applying changes in Train\n",
    "df_train.rename(columns={'female' : 'gender'}, inplace=True)\n",
    "df_train.drop(columns=['p_id'], inplace=True)\n",
    "df_train[\"ethnicity\"].replace({1:\"White/Euro-American\", 2:\"Hispanic/Latino\", 3:\"Black/African-American\",\n",
    "                         5:\"Asian-American\", 6:\"Other\",7:\"Pacific Islander\", 8:\"Biracial\"}, inplace=True)\n",
    "df_train['gender'].replace({0:'Male', 1:'Female'}, inplace=True)\n",
    "#Applying changes in Test\n",
    "df_test.rename(columns={'female' : 'gender'}, inplace=True)\n",
    "df_test.drop(columns=['p_id'], inplace=True)\n",
    "df_test[\"ethnicity\"].replace({1:\"White/Euro-American\", 2:\"Hispanic/Latino\", 3:\"Black/African-American\",\n",
    "                         5:\"Asian-American\", 6:\"Other\",7:\"Pacific Islander\", 8:\"Biracial\"}, inplace=True)\n",
    "df_test['gender'].replace({0:'Male', 1:'Female'}, inplace=True)\n",
    "\n",
    "df_corr = df_train.corr()\n",
    "sns.heatmap(df_corr)"
   ]
  },
  {
   "cell_type": "markdown",
   "id": "878374ee",
   "metadata": {},
   "source": [
    "## Separating Features"
   ]
  },
  {
   "cell_type": "code",
   "execution_count": 908,
   "id": "d4bf3013",
   "metadata": {},
   "outputs": [],
   "source": [
    "x_train = df_train.drop(['grip'], axis=1)\n",
    "y_train = df_train['grip']\n",
    "\n",
    "x_test = df_test.drop(['grip'], axis=1)\n",
    "y_test = df_test['grip']\n"
   ]
  },
  {
   "cell_type": "code",
   "execution_count": 890,
   "id": "99ffc426",
   "metadata": {},
   "outputs": [
    {
     "data": {
      "text/plain": [
       "(44, 44)"
      ]
     },
     "execution_count": 890,
     "metadata": {},
     "output_type": "execute_result"
    }
   ],
   "source": [
    "x_test.shape"
   ]
  },
  {
   "cell_type": "code",
   "execution_count": 891,
   "id": "5b9cf210",
   "metadata": {},
   "outputs": [
    {
     "data": {
      "text/plain": [
       "(44,)"
      ]
     },
     "execution_count": 891,
     "metadata": {},
     "output_type": "execute_result"
    }
   ],
   "source": [
    "y_test.shape"
   ]
  },
  {
   "cell_type": "markdown",
   "id": "ddd19d93",
   "metadata": {},
   "source": [
    "# Pipeline OneHot and Std Scaler"
   ]
  },
  {
   "cell_type": "code",
   "execution_count": 892,
   "id": "ec39017e",
   "metadata": {},
   "outputs": [],
   "source": [
    "cat_columns = ['gender', 'ethnicity']\n",
    "scalar_columns = s1.columns[6:]\n",
    "cat_transformer = OneHotEncoder(handle_unknown='ignore')\n",
    "scalar_transformer = sklearn.preprocessing.StandardScaler(with_mean=False)\n",
    "\n",
    "preprocessor = ColumnTransformer(transformers=[('cat', cat_transformer, cat_columns), ('num', scalar_transformer, scalar_columns)])\n",
    "pipeline = Pipeline(steps=[('preprocessor', preprocessor)])\n",
    "\n",
    "x_train = pipeline.fit_transform(x_train)\n",
    "x_test = pipeline.transform(x_test)\n"
   ]
  },
  {
   "cell_type": "code",
   "execution_count": 893,
   "id": "3b4a8dd4",
   "metadata": {},
   "outputs": [
    {
     "name": "stdout",
     "output_type": "stream",
     "text": [
      "x_train: (130, 49)\n",
      "x_test: (44, 49)\n"
     ]
    }
   ],
   "source": [
    "print('x_train:', x_train.shape)\n",
    "print('x_test:', x_test.shape)\n"
   ]
  },
  {
   "cell_type": "markdown",
   "id": "ec26c2c8",
   "metadata": {},
   "source": [
    "## Random Over Sampler insted of SMOTE"
   ]
  },
  {
   "cell_type": "code",
   "execution_count": 894,
   "id": "86fffc41",
   "metadata": {
    "scrolled": true
   },
   "outputs": [
    {
     "data": {
      "text/plain": [
       "31    12\n",
       "43    12\n",
       "52    12\n",
       "51    12\n",
       "46    12\n",
       "57    12\n",
       "37    12\n",
       "39    12\n",
       "42    12\n",
       "58    12\n",
       "54    12\n",
       "27    12\n",
       "35    12\n",
       "56    12\n",
       "47    12\n",
       "64    12\n",
       "19    12\n",
       "49    12\n",
       "61    12\n",
       "18    12\n",
       "36    12\n",
       "40    12\n",
       "48    12\n",
       "33    12\n",
       "50    12\n",
       "28    12\n",
       "32    12\n",
       "23    12\n",
       "30    12\n",
       "34    12\n",
       "24    12\n",
       "22    12\n",
       "53    12\n",
       "16    12\n",
       "26    12\n",
       "44    12\n",
       "25    12\n",
       "55    12\n",
       "29    12\n",
       "21    12\n",
       "38    12\n",
       "20    12\n",
       "Name: grip, dtype: int64"
      ]
     },
     "execution_count": 894,
     "metadata": {},
     "output_type": "execute_result"
    }
   ],
   "source": [
    "sm = RandomOverSampler()\n",
    "x_train, y_train = sm.fit_resample(x_train,y_train)\n",
    "y_train.value_counts()\n"
   ]
  },
  {
   "cell_type": "code",
   "execution_count": 895,
   "id": "3ad14919",
   "metadata": {},
   "outputs": [
    {
     "data": {
      "text/plain": [
       "((504,), (504, 49))"
      ]
     },
     "execution_count": 895,
     "metadata": {},
     "output_type": "execute_result"
    }
   ],
   "source": [
    "y_train.shape, x_train.shape"
   ]
  },
  {
   "cell_type": "markdown",
   "id": "fb4da21e",
   "metadata": {},
   "source": [
    "## Bayesian Regression"
   ]
  },
  {
   "cell_type": "code",
   "execution_count": 896,
   "id": "279f3777",
   "metadata": {},
   "outputs": [
    {
     "data": {
      "text/plain": [
       "array([50.83726617, 37.07176491, 44.56396026, 46.75292903, 26.3916948 ,\n",
       "       60.18678377, 27.63996337, 45.739344  , 25.60841596, 46.41300709,\n",
       "       50.08988733, 25.57843862, 26.26555913, 34.00855426, 49.01751648,\n",
       "       29.24602459, 45.57130931, 17.31208221, 45.97968219, 60.75284873,\n",
       "       17.7618775 , 32.47791366, 24.39922603, 25.589668  , 23.39802285,\n",
       "       51.57028204, 39.91460665, 47.41516991, 52.94304229, 20.06820373,\n",
       "       45.60008796, 24.76199699, 62.40399016, 28.85193104, 46.41459465,\n",
       "       45.77816313, 31.40226333, 56.05198566, 66.08053017, 56.50536477,\n",
       "       46.01838476, 35.38926715, 13.05554003, 36.82385692])"
      ]
     },
     "execution_count": 896,
     "metadata": {},
     "output_type": "execute_result"
    }
   ],
   "source": [
    "clf = linear_model.BayesianRidge()\n",
    "\n",
    "clf.fit(x_train, y_train)\n",
    "y_pred = clf.predict(x_test)\n",
    "\n",
    "y_pred"
   ]
  },
  {
   "cell_type": "code",
   "execution_count": 897,
   "id": "40f664ad",
   "metadata": {},
   "outputs": [
    {
     "name": "stdout",
     "output_type": "stream",
     "text": [
      "Mean Squared Error:  121.96066998376209\n"
     ]
    },
    {
     "data": {
      "text/plain": [
       "11.043580487494175"
      ]
     },
     "execution_count": 897,
     "metadata": {},
     "output_type": "execute_result"
    }
   ],
   "source": [
    "mse = mean_squared_error(y_test, y_pred)\n",
    "print(\"Mean Squared Error: \", mse)\n",
    "math.sqrt(mse)"
   ]
  },
  {
   "cell_type": "markdown",
   "id": "9098ef7a",
   "metadata": {},
   "source": [
    "# END"
   ]
  },
  {
   "cell_type": "code",
   "execution_count": 898,
   "id": "1599dfce",
   "metadata": {},
   "outputs": [],
   "source": [
    "#pca = sklearn.decomposition.PCA(n_components=100)\n",
    "#pca.fit(x_train.toarray())\n",
    "\n",
    "#x_train = pca.transform(x_train.toarray())\n",
    "#x_test = pca.transform(x_test.toarray())\n",
    "#print('x_train:', x_train.shape)\n",
    "#print('x_test:', x_test.shape)\n"
   ]
  }
 ],
 "metadata": {
  "kernelspec": {
   "display_name": "Python 3 (ipykernel)",
   "language": "python",
   "name": "python3"
  },
  "language_info": {
   "codemirror_mode": {
    "name": "ipython",
    "version": 3
   },
   "file_extension": ".py",
   "mimetype": "text/x-python",
   "name": "python",
   "nbconvert_exporter": "python",
   "pygments_lexer": "ipython3",
   "version": "3.9.13"
  }
 },
 "nbformat": 4,
 "nbformat_minor": 5
}
